{
 "cells": [
  {
   "cell_type": "code",
   "execution_count": 1,
   "metadata": {},
   "outputs": [
    {
     "name": "stderr",
     "output_type": "stream",
     "text": [
      "/tmp/ipykernel_588772/2526559193.py:3: DeprecationWarning: \n",
      "Pyarrow will become a required dependency of pandas in the next major release of pandas (pandas 3.0),\n",
      "(to allow more performant data types, such as the Arrow string type, and better interoperability with other libraries)\n",
      "but was not found to be installed on your system.\n",
      "If this would cause problems for you,\n",
      "please provide us feedback at https://github.com/pandas-dev/pandas/issues/54466\n",
      "        \n",
      "  import pandas as pd\n"
     ]
    }
   ],
   "source": [
    "import matplotlib.pyplot as plt\n",
    "import numpy as np\n",
    "import pandas as pd\n",
    "import torch\n",
    "from tqdm import tqdm\n",
    "\n",
    "from baseline.data import MoleculeDatapoint, MoleculeDataset\n",
    "from baseline.models import FeedForwardNetwork, evaluate, train_one_epoch\n",
    "from baseline.splits import split_data\n",
    "from baseline.utils import get_fingerprint, make_rdkit_mol\n",
    "from baseline.featurizers import MorganFeaturizer"
   ]
  },
  {
   "cell_type": "code",
   "execution_count": 2,
   "metadata": {},
   "outputs": [],
   "source": [
    "path = \"/home/hwpang/Projects/BaselineML/data/biogen_solubility.csv\"\n",
    "data_df = pd.read_csv(path)"
   ]
  },
  {
   "cell_type": "code",
   "execution_count": 3,
   "metadata": {},
   "outputs": [],
   "source": [
    "data_df[\"mol\"] = data_df[\"SMILES\"].apply(make_rdkit_mol)"
   ]
  },
  {
   "cell_type": "code",
   "execution_count": 4,
   "metadata": {},
   "outputs": [],
   "source": [
    "datapoints = [\n",
    "    MoleculeDatapoint(\n",
    "        mol,\n",
    "        solubility,\n",
    "        featurizer=MorganFeaturizer(),\n",
    "    )\n",
    "    for mol, solubility in zip(data_df[\"mol\"], data_df[\"logS\"])\n",
    "]"
   ]
  },
  {
   "cell_type": "code",
   "execution_count": 5,
   "metadata": {},
   "outputs": [],
   "source": [
    "train_dpoints, val_dpoints, test_dpoints = split_data(datapoints)"
   ]
  },
  {
   "cell_type": "code",
   "execution_count": 6,
   "metadata": {},
   "outputs": [
    {
     "name": "stdout",
     "output_type": "stream",
     "text": [
      "Using cuda device\n"
     ]
    }
   ],
   "source": [
    "device = (\n",
    "    \"cuda\"\n",
    "    if torch.cuda.is_available()\n",
    "    else \"mps\" if torch.backends.mps.is_available() else \"cpu\"\n",
    ")\n",
    "print(f\"Using {device} device\")"
   ]
  },
  {
   "cell_type": "code",
   "execution_count": 7,
   "metadata": {},
   "outputs": [],
   "source": [
    "train_dset = MoleculeDataset(train_dpoints)\n",
    "val_dset = MoleculeDataset(val_dpoints)\n",
    "test_dset = MoleculeDataset(test_dpoints)\n",
    "\n",
    "feature_scaler = train_dset.normalize_features()\n",
    "val_dset.normalize_features(feature_scaler)\n",
    "test_dset.normalize_features(feature_scaler)\n",
    "\n",
    "label_scaler = train_dset.normalize_labels()\n",
    "val_dset.normalize_labels(label_scaler)\n",
    "test_dset.normalize_labels(label_scaler)\n",
    "\n",
    "train_dset.to(device)\n",
    "val_dset.to(device)\n",
    "test_dset.to(device)"
   ]
  },
  {
   "cell_type": "code",
   "execution_count": 8,
   "metadata": {},
   "outputs": [],
   "source": [
    "train_dataloader = torch.utils.data.DataLoader(train_dset, batch_size=64, shuffle=True)\n",
    "valid_dataloader = torch.utils.data.DataLoader(val_dset, batch_size=64, shuffle=True)\n",
    "test_dataloader = torch.utils.data.DataLoader(test_dset, shuffle=False)"
   ]
  },
  {
   "cell_type": "code",
   "execution_count": 9,
   "metadata": {},
   "outputs": [
    {
     "name": "stdout",
     "output_type": "stream",
     "text": [
      "FeedForwardNetwork(\n",
      "  (activation): ReLU()\n",
      "  (sequences): Sequential(\n",
      "    (0): Linear(in_features=2048, out_features=512, bias=True)\n",
      "    (1): ReLU()\n",
      "    (2): Dropout(p=0.1, inplace=False)\n",
      "    (3): Linear(in_features=512, out_features=512, bias=True)\n",
      "    (4): ReLU()\n",
      "    (5): Dropout(p=0.1, inplace=False)\n",
      "    (6): Linear(in_features=512, out_features=1, bias=True)\n",
      "  )\n",
      ")\n"
     ]
    }
   ],
   "source": [
    "model = FeedForwardNetwork(\n",
    "    input_size=2048,\n",
    "    hidden_size=512,\n",
    "    output_size=1,\n",
    "    n_layers=3,\n",
    "    dropout=0.1,\n",
    "    activation=\"ReLU\",\n",
    ").to(device)\n",
    "print(model)"
   ]
  },
  {
   "cell_type": "code",
   "execution_count": 10,
   "metadata": {},
   "outputs": [
    {
     "name": "stderr",
     "output_type": "stream",
     "text": [
      "  0%|          | 0/10 [00:00<?, ?it/s]"
     ]
    },
    {
     "name": "stdout",
     "output_type": "stream",
     "text": [
      "Epoch 1/10\n"
     ]
    },
    {
     "name": "stderr",
     "output_type": "stream",
     "text": [
      " 20%|██        | 2/10 [00:02<00:08,  1.07s/it]"
     ]
    },
    {
     "name": "stdout",
     "output_type": "stream",
     "text": [
      "Training Loss: 0.2987717842417104\n",
      "Validation Loss: 0.8203058689832687\n",
      "Epoch 2/10\n",
      "Training Loss: 0.08235585130751133\n",
      "Validation Loss: 0.6928192973136902\n",
      "Epoch 3/10\n",
      "Training Loss: 0.056382776969777684\n"
     ]
    },
    {
     "name": "stderr",
     "output_type": "stream",
     "text": [
      " 40%|████      | 4/10 [00:02<00:02,  2.37it/s]"
     ]
    },
    {
     "name": "stdout",
     "output_type": "stream",
     "text": [
      "Validation Loss: 0.7260102927684784\n",
      "Epoch 4/10\n",
      "Training Loss: 0.038581825393651216\n",
      "Validation Loss: 0.626066654920578\n",
      "Epoch 5/10\n",
      "Training Loss: 0.021706932756517614\n",
      "Validation Loss: 0.5963998138904572\n",
      "Epoch 6/10\n"
     ]
    },
    {
     "name": "stderr",
     "output_type": "stream",
     "text": [
      " 60%|██████    | 6/10 [00:02<00:00,  4.08it/s]"
     ]
    },
    {
     "name": "stdout",
     "output_type": "stream",
     "text": [
      "Training Loss: 0.016385338235912577\n",
      "Validation Loss: 0.6138813123106956\n",
      "Epoch 7/10\n",
      "Training Loss: 0.013362118292466871\n",
      "Validation Loss: 0.7195767462253571\n",
      "Epoch 8/10\n",
      "Training Loss: 0.01608848004668419\n"
     ]
    },
    {
     "name": "stderr",
     "output_type": "stream",
     "text": [
      " 90%|█████████ | 9/10 [00:03<00:00,  6.13it/s]"
     ]
    },
    {
     "name": "stdout",
     "output_type": "stream",
     "text": [
      "Validation Loss: 0.6681292504072189\n",
      "Epoch 9/10\n",
      "Training Loss: 0.018693045613222888\n",
      "Validation Loss: 0.6220250725746155\n",
      "Epoch 10/10\n",
      "Training Loss: 0.020908702996426394\n"
     ]
    },
    {
     "name": "stderr",
     "output_type": "stream",
     "text": [
      "100%|██████████| 10/10 [00:03<00:00,  2.99it/s]"
     ]
    },
    {
     "name": "stdout",
     "output_type": "stream",
     "text": [
      "Validation Loss: 0.7483351528644562\n"
     ]
    },
    {
     "name": "stderr",
     "output_type": "stream",
     "text": [
      "\n"
     ]
    }
   ],
   "source": [
    "loss_function = torch.nn.MSELoss()\n",
    "optimizer = torch.optim.Adam(model.parameters(), lr=0.001)\n",
    "\n",
    "n_epochs = 10\n",
    "train_losses = []\n",
    "val_losses = []\n",
    "\n",
    "for epoch in tqdm(range(n_epochs)):\n",
    "    print(f\"Epoch {epoch+1}/{n_epochs}\")\n",
    "    train_one_epoch(train_dataloader, model, loss_function, optimizer)\n",
    "\n",
    "    train_loss = evaluate(train_dataloader, model, loss_function)\n",
    "    print(f\"Training Loss: {train_loss}\")\n",
    "    val_loss = evaluate(valid_dataloader, model, loss_function)\n",
    "    print(f\"Validation Loss: {val_loss}\")\n",
    "\n",
    "    train_losses.append(train_loss)\n",
    "    val_losses.append(val_loss)"
   ]
  },
  {
   "cell_type": "code",
   "execution_count": 11,
   "metadata": {},
   "outputs": [
    {
     "data": {
      "image/png": "[encoded data removed]",
      "text/plain": [
       "<Figure size 640x480 with 1 Axes>"
      ]
     },
     "metadata": {},
     "output_type": "display_data"
    }
   ],
   "source": [
    "plt.figure()\n",
    "plt.plot(train_losses, label=\"Train\")\n",
    "plt.plot(val_losses, label=\"Validation\")\n",
    "plt.legend()\n",
    "plt.yscale(\"log\")"
   ]
  },
  {
   "cell_type": "code",
   "execution_count": 12,
   "metadata": {},
   "outputs": [],
   "source": [
    "y_preds = []\n",
    "with torch.no_grad():\n",
    "    for x, y in test_dataloader:\n",
    "        y_pred = model(x)\n",
    "        y_pred = y_pred.cpu().numpy().ravel()\n",
    "        y_preds.append(y_pred)\n",
    "\n",
    "y_preds = label_scaler.inverse_transform(np.vstack(y_preds))\n",
    "y_true = label_scaler.inverse_transform(test_dset.labels.cpu().numpy())"
   ]
  },
  {
   "cell_type": "code",
   "execution_count": 13,
   "metadata": {},
   "outputs": [
    {
     "data": {
      "text/plain": [
       "array([[-1.2652727 ],\n",
       "       [ 0.35623294],\n",
       "       [ 0.35020494],\n",
       "       [-0.58705455],\n",
       "       [-2.0224376 ],\n",
       "       [ 0.63037235],\n",
       "       [ 0.5435189 ],\n",
       "       [-0.3898072 ],\n",
       "       [ 0.80955696],\n",
       "       [ 0.10025226],\n",
       "       [ 0.68188584],\n",
       "       [ 0.55026084],\n",
       "       [ 0.6481575 ],\n",
       "       [-1.0534201 ],\n",
       "       [ 0.5266191 ],\n",
       "       [ 0.36167395],\n",
       "       [ 0.6707632 ],\n",
       "       [ 0.6175628 ],\n",
       "       [ 0.5771712 ],\n",
       "       [ 0.7098619 ],\n",
       "       [ 0.6467266 ],\n",
       "       [ 0.5732153 ],\n",
       "       [-1.7613895 ],\n",
       "       [-1.9554231 ],\n",
       "       [ 0.5945389 ],\n",
       "       [ 0.33655623],\n",
       "       [ 0.9986184 ],\n",
       "       [-1.5688268 ],\n",
       "       [ 0.720964  ],\n",
       "       [ 0.02771097],\n",
       "       [ 0.39457127],\n",
       "       [ 0.50639874],\n",
       "       [-2.0214446 ],\n",
       "       [ 0.20561785],\n",
       "       [ 0.8062621 ],\n",
       "       [ 0.5724078 ],\n",
       "       [ 0.48708212],\n",
       "       [-1.0917443 ],\n",
       "       [ 0.59252244],\n",
       "       [ 0.53231686],\n",
       "       [ 0.71659267],\n",
       "       [ 0.5292808 ],\n",
       "       [ 0.2808377 ],\n",
       "       [ 0.68291074],\n",
       "       [ 0.59562415],\n",
       "       [-1.009864  ],\n",
       "       [ 0.6870626 ],\n",
       "       [ 0.46867737],\n",
       "       [-0.04201979],\n",
       "       [-0.9157391 ],\n",
       "       [ 0.7151494 ],\n",
       "       [ 0.3819737 ],\n",
       "       [ 0.46638352],\n",
       "       [ 0.6622199 ],\n",
       "       [-2.699069  ],\n",
       "       [ 0.89455175],\n",
       "       [-2.2178519 ],\n",
       "       [ 0.64080703],\n",
       "       [ 0.3704879 ],\n",
       "       [ 0.62385225],\n",
       "       [ 0.83129764],\n",
       "       [ 0.2804742 ],\n",
       "       [ 0.25385594],\n",
       "       [ 0.53037405],\n",
       "       [ 0.41600502],\n",
       "       [ 0.68699396],\n",
       "       [ 0.41463375],\n",
       "       [ 0.6227213 ],\n",
       "       [ 0.5008561 ],\n",
       "       [ 0.7032957 ],\n",
       "       [-0.12646696],\n",
       "       [ 0.23467703],\n",
       "       [ 0.5951761 ],\n",
       "       [ 0.36854374],\n",
       "       [-1.6132803 ],\n",
       "       [-2.6187472 ],\n",
       "       [ 0.65742785],\n",
       "       [ 0.80944824],\n",
       "       [ 0.35248435],\n",
       "       [ 0.60272884],\n",
       "       [ 0.6216177 ],\n",
       "       [-1.673011  ],\n",
       "       [-1.0309418 ],\n",
       "       [ 0.45207304],\n",
       "       [ 0.32480383],\n",
       "       [ 0.33121857],\n",
       "       [ 0.40385714],\n",
       "       [ 0.56053054],\n",
       "       [ 0.5419043 ],\n",
       "       [ 0.5371833 ],\n",
       "       [ 0.6138835 ],\n",
       "       [-2.8818686 ],\n",
       "       [ 0.19611253],\n",
       "       [ 0.699054  ],\n",
       "       [ 0.5752352 ],\n",
       "       [ 0.52398324],\n",
       "       [ 0.24330182],\n",
       "       [ 0.55338067],\n",
       "       [ 0.3189983 ],\n",
       "       [ 0.5413482 ],\n",
       "       [ 0.49314716],\n",
       "       [ 0.25607476],\n",
       "       [-2.8644736 ],\n",
       "       [-2.2912197 ],\n",
       "       [ 0.03548688],\n",
       "       [-2.8645256 ],\n",
       "       [ 0.09484863],\n",
       "       [-1.6452025 ],\n",
       "       [ 0.55412084],\n",
       "       [ 0.62871164],\n",
       "       [ 0.6341587 ],\n",
       "       [ 0.07693731],\n",
       "       [ 0.45336992],\n",
       "       [ 0.5655141 ],\n",
       "       [ 0.7836058 ],\n",
       "       [ 0.5320183 ],\n",
       "       [ 0.5367868 ],\n",
       "       [ 0.71558124],\n",
       "       [ 0.6726343 ],\n",
       "       [ 0.5065525 ],\n",
       "       [-3.1072576 ],\n",
       "       [ 0.7203871 ],\n",
       "       [ 0.621171  ],\n",
       "       [-0.37194502],\n",
       "       [-1.8945689 ],\n",
       "       [ 0.71401745],\n",
       "       [ 0.57116914],\n",
       "       [-1.2853006 ],\n",
       "       [ 0.5800023 ],\n",
       "       [ 0.099227  ],\n",
       "       [ 0.7064078 ],\n",
       "       [-2.878766  ],\n",
       "       [-1.7820286 ],\n",
       "       [ 0.30639973],\n",
       "       [ 0.5537432 ],\n",
       "       [ 0.60276926],\n",
       "       [ 0.2021974 ],\n",
       "       [ 0.5345087 ],\n",
       "       [ 0.83556795],\n",
       "       [-0.2703459 ],\n",
       "       [ 0.65237194],\n",
       "       [ 0.54045963],\n",
       "       [ 0.37819347],\n",
       "       [ 0.06790458],\n",
       "       [ 0.57090086],\n",
       "       [ 0.67001534],\n",
       "       [-0.69297755],\n",
       "       [ 0.88707775],\n",
       "       [ 0.5974875 ],\n",
       "       [ 0.4449518 ],\n",
       "       [-1.2809054 ],\n",
       "       [ 0.26764944],\n",
       "       [-3.1797674 ],\n",
       "       [ 0.62450594],\n",
       "       [ 0.40631154],\n",
       "       [-1.3684721 ],\n",
       "       [-2.6921601 ],\n",
       "       [ 0.49724683],\n",
       "       [ 0.95216256],\n",
       "       [ 0.5491107 ],\n",
       "       [-3.236941  ],\n",
       "       [ 0.23114082],\n",
       "       [ 0.38352776],\n",
       "       [ 0.22164561],\n",
       "       [ 0.51751596],\n",
       "       [ 0.5011698 ],\n",
       "       [-0.0623034 ],\n",
       "       [ 0.5614424 ],\n",
       "       [-1.075248  ],\n",
       "       [ 0.8477418 ],\n",
       "       [-0.40378648],\n",
       "       [ 0.5280647 ],\n",
       "       [ 0.9612286 ],\n",
       "       [ 0.54098004],\n",
       "       [ 0.08191818],\n",
       "       [-0.73833174],\n",
       "       [ 0.6116378 ],\n",
       "       [-2.0533507 ],\n",
       "       [ 0.45683378],\n",
       "       [ 0.41865432],\n",
       "       [ 0.532434  ],\n",
       "       [ 0.3522033 ],\n",
       "       [-0.01063408],\n",
       "       [ 0.69508255],\n",
       "       [ 0.6971398 ],\n",
       "       [ 0.3265945 ],\n",
       "       [-0.04691247],\n",
       "       [ 0.63635457],\n",
       "       [ 0.61449504],\n",
       "       [ 0.7330883 ],\n",
       "       [-2.020185  ],\n",
       "       [ 0.6306036 ],\n",
       "       [ 0.6306524 ],\n",
       "       [ 0.3538711 ],\n",
       "       [ 0.6755741 ],\n",
       "       [-0.39867365],\n",
       "       [ 0.13530141],\n",
       "       [ 0.56049216],\n",
       "       [ 0.69038105],\n",
       "       [ 0.42326224],\n",
       "       [-0.8898149 ],\n",
       "       [-1.2129114 ],\n",
       "       [ 0.43515095],\n",
       "       [ 0.35500708],\n",
       "       [ 0.61341125],\n",
       "       [-0.51323557],\n",
       "       [-1.2017817 ],\n",
       "       [ 0.59993654],\n",
       "       [ 0.35922256],\n",
       "       [ 0.6883558 ],\n",
       "       [ 0.6881259 ],\n",
       "       [ 0.64164615],\n",
       "       [ 0.59584427],\n",
       "       [-1.8809189 ],\n",
       "       [ 0.01132238],\n",
       "       [ 0.5070857 ],\n",
       "       [ 0.40366495],\n",
       "       [-3.111997  ]], dtype=float32)"
      ]
     },
     "execution_count": 13,
     "metadata": {},
     "output_type": "execute_result"
    }
   ],
   "source": [
    "test_dset.labels.cpu().numpy()"
   ]
  },
  {
   "cell_type": "code",
   "execution_count": 14,
   "metadata": {},
   "outputs": [
    {
     "data": {
      "text/plain": [
       "Text(0, 0.5, 'Prediction')"
      ]
     },
     "execution_count": 14,
     "metadata": {},
     "output_type": "execute_result"
    },
    {
     "data": {
      "image/png": "[encoded data removed]",
      "text/plain": [
       "<Figure size 500x500 with 1 Axes>"
      ]
     },
     "metadata": {},
     "output_type": "display_data"
    }
   ],
   "source": [
    "plt.figure(figsize=(5, 5))\n",
    "plt.scatter(y_true, y_preds, s=1)\n",
    "plt.plot([y_true.min(), y_true.max()], [y_true.min(), y_true.max()], \"k--\", lw=1)\n",
    "plt.xlabel(\"Truth\")\n",
    "plt.ylabel(\"Prediction\")"
   ]
  },
  {
   "cell_type": "code",
   "execution_count": null,
   "metadata": {},
   "outputs": [],
   "source": []
  }
 ],
 "metadata": {
  "kernelspec": {
   "display_name": "baselineML",
   "language": "python",
   "name": "python3"
  },
  "language_info": {
   "codemirror_mode": {
    "name": "ipython",
    "version": 3
   },
   "file_extension": ".py",
   "mimetype": "text/x-python",
   "name": "python",
   "nbconvert_exporter": "python",
   "pygments_lexer": "ipython3",
   "version": "3.12.2"
  }
 },
 "nbformat": 4,
 "nbformat_minor": 2
}
